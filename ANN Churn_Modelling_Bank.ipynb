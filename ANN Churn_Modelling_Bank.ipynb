{
 "cells": [
  {
   "cell_type": "code",
   "execution_count": 1,
   "metadata": {},
   "outputs": [],
   "source": [
    "import numpy as np\n",
    "import pandas as pd\n",
    "import matplotlib.pyplot as plt \n",
    "from tensorflow import keras\n",
    "from tensorflow.keras import models, layers, datasets\n",
    "from sklearn.model_selection import train_test_split\n",
    "from sklearn.metrics import confusion_matrix, accuracy_score, classification_report "
   ]
  },
  {
   "cell_type": "code",
   "execution_count": 2,
   "metadata": {},
   "outputs": [],
   "source": [
    "df = pd.read_csv('Churn_Modelling_Bank.csv')"
   ]
  },
  {
   "cell_type": "code",
   "execution_count": 3,
   "metadata": {},
   "outputs": [
    {
     "data": {
      "text/html": [
       "<div>\n",
       "<style scoped>\n",
       "    .dataframe tbody tr th:only-of-type {\n",
       "        vertical-align: middle;\n",
       "    }\n",
       "\n",
       "    .dataframe tbody tr th {\n",
       "        vertical-align: top;\n",
       "    }\n",
       "\n",
       "    .dataframe thead th {\n",
       "        text-align: right;\n",
       "    }\n",
       "</style>\n",
       "<table border=\"1\" class=\"dataframe\">\n",
       "  <thead>\n",
       "    <tr style=\"text-align: right;\">\n",
       "      <th></th>\n",
       "      <th>RowNumber</th>\n",
       "      <th>CustomerId</th>\n",
       "      <th>Surname</th>\n",
       "      <th>CreditScore</th>\n",
       "      <th>Geography</th>\n",
       "      <th>Gender</th>\n",
       "      <th>Age</th>\n",
       "      <th>Tenure</th>\n",
       "      <th>Balance</th>\n",
       "      <th>NumOfProducts</th>\n",
       "      <th>HasCrCard</th>\n",
       "      <th>IsActiveMember</th>\n",
       "      <th>EstimatedSalary</th>\n",
       "      <th>Exited</th>\n",
       "    </tr>\n",
       "  </thead>\n",
       "  <tbody>\n",
       "    <tr>\n",
       "      <th>0</th>\n",
       "      <td>1</td>\n",
       "      <td>15634602</td>\n",
       "      <td>Hargrave</td>\n",
       "      <td>619</td>\n",
       "      <td>France</td>\n",
       "      <td>Female</td>\n",
       "      <td>42</td>\n",
       "      <td>2</td>\n",
       "      <td>0.00</td>\n",
       "      <td>1</td>\n",
       "      <td>1</td>\n",
       "      <td>1</td>\n",
       "      <td>101348.88</td>\n",
       "      <td>1</td>\n",
       "    </tr>\n",
       "    <tr>\n",
       "      <th>1</th>\n",
       "      <td>2</td>\n",
       "      <td>15647311</td>\n",
       "      <td>Hill</td>\n",
       "      <td>608</td>\n",
       "      <td>Spain</td>\n",
       "      <td>Female</td>\n",
       "      <td>41</td>\n",
       "      <td>1</td>\n",
       "      <td>83807.86</td>\n",
       "      <td>1</td>\n",
       "      <td>0</td>\n",
       "      <td>1</td>\n",
       "      <td>112542.58</td>\n",
       "      <td>0</td>\n",
       "    </tr>\n",
       "    <tr>\n",
       "      <th>2</th>\n",
       "      <td>3</td>\n",
       "      <td>15619304</td>\n",
       "      <td>Onio</td>\n",
       "      <td>502</td>\n",
       "      <td>France</td>\n",
       "      <td>Female</td>\n",
       "      <td>42</td>\n",
       "      <td>8</td>\n",
       "      <td>159660.80</td>\n",
       "      <td>3</td>\n",
       "      <td>1</td>\n",
       "      <td>0</td>\n",
       "      <td>113931.57</td>\n",
       "      <td>1</td>\n",
       "    </tr>\n",
       "    <tr>\n",
       "      <th>3</th>\n",
       "      <td>4</td>\n",
       "      <td>15701354</td>\n",
       "      <td>Boni</td>\n",
       "      <td>699</td>\n",
       "      <td>France</td>\n",
       "      <td>Female</td>\n",
       "      <td>39</td>\n",
       "      <td>1</td>\n",
       "      <td>0.00</td>\n",
       "      <td>2</td>\n",
       "      <td>0</td>\n",
       "      <td>0</td>\n",
       "      <td>93826.63</td>\n",
       "      <td>0</td>\n",
       "    </tr>\n",
       "    <tr>\n",
       "      <th>4</th>\n",
       "      <td>5</td>\n",
       "      <td>15737888</td>\n",
       "      <td>Mitchell</td>\n",
       "      <td>850</td>\n",
       "      <td>Spain</td>\n",
       "      <td>Female</td>\n",
       "      <td>43</td>\n",
       "      <td>2</td>\n",
       "      <td>125510.82</td>\n",
       "      <td>1</td>\n",
       "      <td>1</td>\n",
       "      <td>1</td>\n",
       "      <td>79084.10</td>\n",
       "      <td>0</td>\n",
       "    </tr>\n",
       "  </tbody>\n",
       "</table>\n",
       "</div>"
      ],
      "text/plain": [
       "   RowNumber  CustomerId   Surname  CreditScore Geography  Gender  Age  \\\n",
       "0          1    15634602  Hargrave          619    France  Female   42   \n",
       "1          2    15647311      Hill          608     Spain  Female   41   \n",
       "2          3    15619304      Onio          502    France  Female   42   \n",
       "3          4    15701354      Boni          699    France  Female   39   \n",
       "4          5    15737888  Mitchell          850     Spain  Female   43   \n",
       "\n",
       "   Tenure    Balance  NumOfProducts  HasCrCard  IsActiveMember  \\\n",
       "0       2       0.00              1          1               1   \n",
       "1       1   83807.86              1          0               1   \n",
       "2       8  159660.80              3          1               0   \n",
       "3       1       0.00              2          0               0   \n",
       "4       2  125510.82              1          1               1   \n",
       "\n",
       "   EstimatedSalary  Exited  \n",
       "0        101348.88       1  \n",
       "1        112542.58       0  \n",
       "2        113931.57       1  \n",
       "3         93826.63       0  \n",
       "4         79084.10       0  "
      ]
     },
     "execution_count": 3,
     "metadata": {},
     "output_type": "execute_result"
    }
   ],
   "source": [
    "df.head()"
   ]
  },
  {
   "cell_type": "code",
   "execution_count": 4,
   "metadata": {},
   "outputs": [
    {
     "data": {
      "text/plain": [
       "RowNumber            int64\n",
       "CustomerId           int64\n",
       "Surname             object\n",
       "CreditScore          int64\n",
       "Geography           object\n",
       "Gender              object\n",
       "Age                  int64\n",
       "Tenure               int64\n",
       "Balance            float64\n",
       "NumOfProducts        int64\n",
       "HasCrCard            int64\n",
       "IsActiveMember       int64\n",
       "EstimatedSalary    float64\n",
       "Exited               int64\n",
       "dtype: object"
      ]
     },
     "execution_count": 4,
     "metadata": {},
     "output_type": "execute_result"
    }
   ],
   "source": [
    "df.dtypes"
   ]
  },
  {
   "cell_type": "code",
   "execution_count": 5,
   "metadata": {},
   "outputs": [],
   "source": [
    "df.drop(['Surname','RowNumber','CustomerId'], axis=1, inplace=True)"
   ]
  },
  {
   "cell_type": "code",
   "execution_count": 6,
   "metadata": {},
   "outputs": [
    {
     "data": {
      "text/html": [
       "<div>\n",
       "<style scoped>\n",
       "    .dataframe tbody tr th:only-of-type {\n",
       "        vertical-align: middle;\n",
       "    }\n",
       "\n",
       "    .dataframe tbody tr th {\n",
       "        vertical-align: top;\n",
       "    }\n",
       "\n",
       "    .dataframe thead th {\n",
       "        text-align: right;\n",
       "    }\n",
       "</style>\n",
       "<table border=\"1\" class=\"dataframe\">\n",
       "  <thead>\n",
       "    <tr style=\"text-align: right;\">\n",
       "      <th></th>\n",
       "      <th>CreditScore</th>\n",
       "      <th>Geography</th>\n",
       "      <th>Gender</th>\n",
       "      <th>Age</th>\n",
       "      <th>Tenure</th>\n",
       "      <th>Balance</th>\n",
       "      <th>NumOfProducts</th>\n",
       "      <th>HasCrCard</th>\n",
       "      <th>IsActiveMember</th>\n",
       "      <th>EstimatedSalary</th>\n",
       "      <th>Exited</th>\n",
       "    </tr>\n",
       "  </thead>\n",
       "  <tbody>\n",
       "    <tr>\n",
       "      <th>0</th>\n",
       "      <td>619</td>\n",
       "      <td>France</td>\n",
       "      <td>Female</td>\n",
       "      <td>42</td>\n",
       "      <td>2</td>\n",
       "      <td>0.00</td>\n",
       "      <td>1</td>\n",
       "      <td>1</td>\n",
       "      <td>1</td>\n",
       "      <td>101348.88</td>\n",
       "      <td>1</td>\n",
       "    </tr>\n",
       "    <tr>\n",
       "      <th>1</th>\n",
       "      <td>608</td>\n",
       "      <td>Spain</td>\n",
       "      <td>Female</td>\n",
       "      <td>41</td>\n",
       "      <td>1</td>\n",
       "      <td>83807.86</td>\n",
       "      <td>1</td>\n",
       "      <td>0</td>\n",
       "      <td>1</td>\n",
       "      <td>112542.58</td>\n",
       "      <td>0</td>\n",
       "    </tr>\n",
       "    <tr>\n",
       "      <th>2</th>\n",
       "      <td>502</td>\n",
       "      <td>France</td>\n",
       "      <td>Female</td>\n",
       "      <td>42</td>\n",
       "      <td>8</td>\n",
       "      <td>159660.80</td>\n",
       "      <td>3</td>\n",
       "      <td>1</td>\n",
       "      <td>0</td>\n",
       "      <td>113931.57</td>\n",
       "      <td>1</td>\n",
       "    </tr>\n",
       "    <tr>\n",
       "      <th>3</th>\n",
       "      <td>699</td>\n",
       "      <td>France</td>\n",
       "      <td>Female</td>\n",
       "      <td>39</td>\n",
       "      <td>1</td>\n",
       "      <td>0.00</td>\n",
       "      <td>2</td>\n",
       "      <td>0</td>\n",
       "      <td>0</td>\n",
       "      <td>93826.63</td>\n",
       "      <td>0</td>\n",
       "    </tr>\n",
       "    <tr>\n",
       "      <th>4</th>\n",
       "      <td>850</td>\n",
       "      <td>Spain</td>\n",
       "      <td>Female</td>\n",
       "      <td>43</td>\n",
       "      <td>2</td>\n",
       "      <td>125510.82</td>\n",
       "      <td>1</td>\n",
       "      <td>1</td>\n",
       "      <td>1</td>\n",
       "      <td>79084.10</td>\n",
       "      <td>0</td>\n",
       "    </tr>\n",
       "  </tbody>\n",
       "</table>\n",
       "</div>"
      ],
      "text/plain": [
       "   CreditScore Geography  Gender  Age  Tenure    Balance  NumOfProducts  \\\n",
       "0          619    France  Female   42       2       0.00              1   \n",
       "1          608     Spain  Female   41       1   83807.86              1   \n",
       "2          502    France  Female   42       8  159660.80              3   \n",
       "3          699    France  Female   39       1       0.00              2   \n",
       "4          850     Spain  Female   43       2  125510.82              1   \n",
       "\n",
       "   HasCrCard  IsActiveMember  EstimatedSalary  Exited  \n",
       "0          1               1        101348.88       1  \n",
       "1          0               1        112542.58       0  \n",
       "2          1               0        113931.57       1  \n",
       "3          0               0         93826.63       0  \n",
       "4          1               1         79084.10       0  "
      ]
     },
     "execution_count": 6,
     "metadata": {},
     "output_type": "execute_result"
    }
   ],
   "source": [
    "df.head()"
   ]
  },
  {
   "cell_type": "code",
   "execution_count": 7,
   "metadata": {},
   "outputs": [
    {
     "data": {
      "text/plain": [
       "CreditScore          int64\n",
       "Geography           object\n",
       "Gender              object\n",
       "Age                  int64\n",
       "Tenure               int64\n",
       "Balance            float64\n",
       "NumOfProducts        int64\n",
       "HasCrCard            int64\n",
       "IsActiveMember       int64\n",
       "EstimatedSalary    float64\n",
       "Exited               int64\n",
       "dtype: object"
      ]
     },
     "execution_count": 7,
     "metadata": {},
     "output_type": "execute_result"
    }
   ],
   "source": [
    "df.dtypes"
   ]
  },
  {
   "cell_type": "code",
   "execution_count": 8,
   "metadata": {},
   "outputs": [],
   "source": [
    "df = pd.get_dummies(df, columns = ['Geography','Gender'])"
   ]
  },
  {
   "cell_type": "code",
   "execution_count": 9,
   "metadata": {},
   "outputs": [
    {
     "data": {
      "text/plain": [
       "Index(['CreditScore', 'Age', 'Tenure', 'Balance', 'NumOfProducts', 'HasCrCard',\n",
       "       'IsActiveMember', 'EstimatedSalary', 'Exited', 'Geography_France',\n",
       "       'Geography_Germany', 'Geography_Spain', 'Gender_Female', 'Gender_Male'],\n",
       "      dtype='object')"
      ]
     },
     "execution_count": 9,
     "metadata": {},
     "output_type": "execute_result"
    }
   ],
   "source": [
    "df.columns"
   ]
  },
  {
   "cell_type": "code",
   "execution_count": 10,
   "metadata": {},
   "outputs": [
    {
     "data": {
      "text/html": [
       "<div>\n",
       "<style scoped>\n",
       "    .dataframe tbody tr th:only-of-type {\n",
       "        vertical-align: middle;\n",
       "    }\n",
       "\n",
       "    .dataframe tbody tr th {\n",
       "        vertical-align: top;\n",
       "    }\n",
       "\n",
       "    .dataframe thead th {\n",
       "        text-align: right;\n",
       "    }\n",
       "</style>\n",
       "<table border=\"1\" class=\"dataframe\">\n",
       "  <thead>\n",
       "    <tr style=\"text-align: right;\">\n",
       "      <th></th>\n",
       "      <th>CreditScore</th>\n",
       "      <th>Age</th>\n",
       "      <th>Tenure</th>\n",
       "      <th>Balance</th>\n",
       "      <th>NumOfProducts</th>\n",
       "      <th>HasCrCard</th>\n",
       "      <th>IsActiveMember</th>\n",
       "      <th>EstimatedSalary</th>\n",
       "      <th>Exited</th>\n",
       "      <th>Geography_France</th>\n",
       "      <th>Geography_Germany</th>\n",
       "      <th>Geography_Spain</th>\n",
       "      <th>Gender_Female</th>\n",
       "      <th>Gender_Male</th>\n",
       "    </tr>\n",
       "  </thead>\n",
       "  <tbody>\n",
       "    <tr>\n",
       "      <th>0</th>\n",
       "      <td>619</td>\n",
       "      <td>42</td>\n",
       "      <td>2</td>\n",
       "      <td>0.00</td>\n",
       "      <td>1</td>\n",
       "      <td>1</td>\n",
       "      <td>1</td>\n",
       "      <td>101348.88</td>\n",
       "      <td>1</td>\n",
       "      <td>1</td>\n",
       "      <td>0</td>\n",
       "      <td>0</td>\n",
       "      <td>1</td>\n",
       "      <td>0</td>\n",
       "    </tr>\n",
       "    <tr>\n",
       "      <th>1</th>\n",
       "      <td>608</td>\n",
       "      <td>41</td>\n",
       "      <td>1</td>\n",
       "      <td>83807.86</td>\n",
       "      <td>1</td>\n",
       "      <td>0</td>\n",
       "      <td>1</td>\n",
       "      <td>112542.58</td>\n",
       "      <td>0</td>\n",
       "      <td>0</td>\n",
       "      <td>0</td>\n",
       "      <td>1</td>\n",
       "      <td>1</td>\n",
       "      <td>0</td>\n",
       "    </tr>\n",
       "    <tr>\n",
       "      <th>2</th>\n",
       "      <td>502</td>\n",
       "      <td>42</td>\n",
       "      <td>8</td>\n",
       "      <td>159660.80</td>\n",
       "      <td>3</td>\n",
       "      <td>1</td>\n",
       "      <td>0</td>\n",
       "      <td>113931.57</td>\n",
       "      <td>1</td>\n",
       "      <td>1</td>\n",
       "      <td>0</td>\n",
       "      <td>0</td>\n",
       "      <td>1</td>\n",
       "      <td>0</td>\n",
       "    </tr>\n",
       "    <tr>\n",
       "      <th>3</th>\n",
       "      <td>699</td>\n",
       "      <td>39</td>\n",
       "      <td>1</td>\n",
       "      <td>0.00</td>\n",
       "      <td>2</td>\n",
       "      <td>0</td>\n",
       "      <td>0</td>\n",
       "      <td>93826.63</td>\n",
       "      <td>0</td>\n",
       "      <td>1</td>\n",
       "      <td>0</td>\n",
       "      <td>0</td>\n",
       "      <td>1</td>\n",
       "      <td>0</td>\n",
       "    </tr>\n",
       "    <tr>\n",
       "      <th>4</th>\n",
       "      <td>850</td>\n",
       "      <td>43</td>\n",
       "      <td>2</td>\n",
       "      <td>125510.82</td>\n",
       "      <td>1</td>\n",
       "      <td>1</td>\n",
       "      <td>1</td>\n",
       "      <td>79084.10</td>\n",
       "      <td>0</td>\n",
       "      <td>0</td>\n",
       "      <td>0</td>\n",
       "      <td>1</td>\n",
       "      <td>1</td>\n",
       "      <td>0</td>\n",
       "    </tr>\n",
       "  </tbody>\n",
       "</table>\n",
       "</div>"
      ],
      "text/plain": [
       "   CreditScore  Age  Tenure    Balance  NumOfProducts  HasCrCard  \\\n",
       "0          619   42       2       0.00              1          1   \n",
       "1          608   41       1   83807.86              1          0   \n",
       "2          502   42       8  159660.80              3          1   \n",
       "3          699   39       1       0.00              2          0   \n",
       "4          850   43       2  125510.82              1          1   \n",
       "\n",
       "   IsActiveMember  EstimatedSalary  Exited  Geography_France  \\\n",
       "0               1        101348.88       1                 1   \n",
       "1               1        112542.58       0                 0   \n",
       "2               0        113931.57       1                 1   \n",
       "3               0         93826.63       0                 1   \n",
       "4               1         79084.10       0                 0   \n",
       "\n",
       "   Geography_Germany  Geography_Spain  Gender_Female  Gender_Male  \n",
       "0                  0                0              1            0  \n",
       "1                  0                1              1            0  \n",
       "2                  0                0              1            0  \n",
       "3                  0                0              1            0  \n",
       "4                  0                1              1            0  "
      ]
     },
     "execution_count": 10,
     "metadata": {},
     "output_type": "execute_result"
    }
   ],
   "source": [
    "df.head()"
   ]
  },
  {
   "cell_type": "code",
   "execution_count": 11,
   "metadata": {},
   "outputs": [
    {
     "data": {
      "text/plain": [
       "Index(['CreditScore', 'Age', 'Tenure', 'Balance', 'NumOfProducts', 'HasCrCard',\n",
       "       'IsActiveMember', 'EstimatedSalary', 'Exited', 'Geography_France',\n",
       "       'Geography_Germany', 'Geography_Spain', 'Gender_Female', 'Gender_Male'],\n",
       "      dtype='object')"
      ]
     },
     "execution_count": 11,
     "metadata": {},
     "output_type": "execute_result"
    }
   ],
   "source": [
    "df.columns"
   ]
  },
  {
   "cell_type": "code",
   "execution_count": 12,
   "metadata": {},
   "outputs": [],
   "source": [
    "col_to_scale = ['CreditScore','Age', 'Balance','EstimatedSalary']"
   ]
  },
  {
   "cell_type": "code",
   "execution_count": 13,
   "metadata": {},
   "outputs": [],
   "source": [
    "from sklearn.preprocessing import MinMaxScaler"
   ]
  },
  {
   "cell_type": "code",
   "execution_count": 14,
   "metadata": {},
   "outputs": [],
   "source": [
    "sc = MinMaxScaler()"
   ]
  },
  {
   "cell_type": "code",
   "execution_count": 15,
   "metadata": {},
   "outputs": [],
   "source": [
    "df[col_to_scale] = sc.fit_transform(df[col_to_scale])"
   ]
  },
  {
   "cell_type": "code",
   "execution_count": 16,
   "metadata": {},
   "outputs": [
    {
     "data": {
      "text/html": [
       "<div>\n",
       "<style scoped>\n",
       "    .dataframe tbody tr th:only-of-type {\n",
       "        vertical-align: middle;\n",
       "    }\n",
       "\n",
       "    .dataframe tbody tr th {\n",
       "        vertical-align: top;\n",
       "    }\n",
       "\n",
       "    .dataframe thead th {\n",
       "        text-align: right;\n",
       "    }\n",
       "</style>\n",
       "<table border=\"1\" class=\"dataframe\">\n",
       "  <thead>\n",
       "    <tr style=\"text-align: right;\">\n",
       "      <th></th>\n",
       "      <th>CreditScore</th>\n",
       "      <th>Age</th>\n",
       "      <th>Tenure</th>\n",
       "      <th>Balance</th>\n",
       "      <th>NumOfProducts</th>\n",
       "      <th>HasCrCard</th>\n",
       "      <th>IsActiveMember</th>\n",
       "      <th>EstimatedSalary</th>\n",
       "      <th>Exited</th>\n",
       "      <th>Geography_France</th>\n",
       "      <th>Geography_Germany</th>\n",
       "      <th>Geography_Spain</th>\n",
       "      <th>Gender_Female</th>\n",
       "      <th>Gender_Male</th>\n",
       "    </tr>\n",
       "  </thead>\n",
       "  <tbody>\n",
       "    <tr>\n",
       "      <th>0</th>\n",
       "      <td>0.538</td>\n",
       "      <td>0.324324</td>\n",
       "      <td>2</td>\n",
       "      <td>0.000000</td>\n",
       "      <td>1</td>\n",
       "      <td>1</td>\n",
       "      <td>1</td>\n",
       "      <td>0.506735</td>\n",
       "      <td>1</td>\n",
       "      <td>1</td>\n",
       "      <td>0</td>\n",
       "      <td>0</td>\n",
       "      <td>1</td>\n",
       "      <td>0</td>\n",
       "    </tr>\n",
       "    <tr>\n",
       "      <th>1</th>\n",
       "      <td>0.516</td>\n",
       "      <td>0.310811</td>\n",
       "      <td>1</td>\n",
       "      <td>0.334031</td>\n",
       "      <td>1</td>\n",
       "      <td>0</td>\n",
       "      <td>1</td>\n",
       "      <td>0.562709</td>\n",
       "      <td>0</td>\n",
       "      <td>0</td>\n",
       "      <td>0</td>\n",
       "      <td>1</td>\n",
       "      <td>1</td>\n",
       "      <td>0</td>\n",
       "    </tr>\n",
       "    <tr>\n",
       "      <th>2</th>\n",
       "      <td>0.304</td>\n",
       "      <td>0.324324</td>\n",
       "      <td>8</td>\n",
       "      <td>0.636357</td>\n",
       "      <td>3</td>\n",
       "      <td>1</td>\n",
       "      <td>0</td>\n",
       "      <td>0.569654</td>\n",
       "      <td>1</td>\n",
       "      <td>1</td>\n",
       "      <td>0</td>\n",
       "      <td>0</td>\n",
       "      <td>1</td>\n",
       "      <td>0</td>\n",
       "    </tr>\n",
       "    <tr>\n",
       "      <th>3</th>\n",
       "      <td>0.698</td>\n",
       "      <td>0.283784</td>\n",
       "      <td>1</td>\n",
       "      <td>0.000000</td>\n",
       "      <td>2</td>\n",
       "      <td>0</td>\n",
       "      <td>0</td>\n",
       "      <td>0.469120</td>\n",
       "      <td>0</td>\n",
       "      <td>1</td>\n",
       "      <td>0</td>\n",
       "      <td>0</td>\n",
       "      <td>1</td>\n",
       "      <td>0</td>\n",
       "    </tr>\n",
       "    <tr>\n",
       "      <th>4</th>\n",
       "      <td>1.000</td>\n",
       "      <td>0.337838</td>\n",
       "      <td>2</td>\n",
       "      <td>0.500246</td>\n",
       "      <td>1</td>\n",
       "      <td>1</td>\n",
       "      <td>1</td>\n",
       "      <td>0.395400</td>\n",
       "      <td>0</td>\n",
       "      <td>0</td>\n",
       "      <td>0</td>\n",
       "      <td>1</td>\n",
       "      <td>1</td>\n",
       "      <td>0</td>\n",
       "    </tr>\n",
       "    <tr>\n",
       "      <th>...</th>\n",
       "      <td>...</td>\n",
       "      <td>...</td>\n",
       "      <td>...</td>\n",
       "      <td>...</td>\n",
       "      <td>...</td>\n",
       "      <td>...</td>\n",
       "      <td>...</td>\n",
       "      <td>...</td>\n",
       "      <td>...</td>\n",
       "      <td>...</td>\n",
       "      <td>...</td>\n",
       "      <td>...</td>\n",
       "      <td>...</td>\n",
       "      <td>...</td>\n",
       "    </tr>\n",
       "    <tr>\n",
       "      <th>9995</th>\n",
       "      <td>0.842</td>\n",
       "      <td>0.283784</td>\n",
       "      <td>5</td>\n",
       "      <td>0.000000</td>\n",
       "      <td>2</td>\n",
       "      <td>1</td>\n",
       "      <td>0</td>\n",
       "      <td>0.481341</td>\n",
       "      <td>0</td>\n",
       "      <td>1</td>\n",
       "      <td>0</td>\n",
       "      <td>0</td>\n",
       "      <td>0</td>\n",
       "      <td>1</td>\n",
       "    </tr>\n",
       "    <tr>\n",
       "      <th>9996</th>\n",
       "      <td>0.332</td>\n",
       "      <td>0.229730</td>\n",
       "      <td>10</td>\n",
       "      <td>0.228657</td>\n",
       "      <td>1</td>\n",
       "      <td>1</td>\n",
       "      <td>1</td>\n",
       "      <td>0.508490</td>\n",
       "      <td>0</td>\n",
       "      <td>1</td>\n",
       "      <td>0</td>\n",
       "      <td>0</td>\n",
       "      <td>0</td>\n",
       "      <td>1</td>\n",
       "    </tr>\n",
       "    <tr>\n",
       "      <th>9997</th>\n",
       "      <td>0.718</td>\n",
       "      <td>0.243243</td>\n",
       "      <td>7</td>\n",
       "      <td>0.000000</td>\n",
       "      <td>1</td>\n",
       "      <td>0</td>\n",
       "      <td>1</td>\n",
       "      <td>0.210390</td>\n",
       "      <td>1</td>\n",
       "      <td>1</td>\n",
       "      <td>0</td>\n",
       "      <td>0</td>\n",
       "      <td>1</td>\n",
       "      <td>0</td>\n",
       "    </tr>\n",
       "    <tr>\n",
       "      <th>9998</th>\n",
       "      <td>0.844</td>\n",
       "      <td>0.324324</td>\n",
       "      <td>3</td>\n",
       "      <td>0.299226</td>\n",
       "      <td>2</td>\n",
       "      <td>1</td>\n",
       "      <td>0</td>\n",
       "      <td>0.464429</td>\n",
       "      <td>1</td>\n",
       "      <td>0</td>\n",
       "      <td>1</td>\n",
       "      <td>0</td>\n",
       "      <td>0</td>\n",
       "      <td>1</td>\n",
       "    </tr>\n",
       "    <tr>\n",
       "      <th>9999</th>\n",
       "      <td>0.884</td>\n",
       "      <td>0.135135</td>\n",
       "      <td>4</td>\n",
       "      <td>0.518708</td>\n",
       "      <td>1</td>\n",
       "      <td>1</td>\n",
       "      <td>0</td>\n",
       "      <td>0.190914</td>\n",
       "      <td>0</td>\n",
       "      <td>1</td>\n",
       "      <td>0</td>\n",
       "      <td>0</td>\n",
       "      <td>1</td>\n",
       "      <td>0</td>\n",
       "    </tr>\n",
       "  </tbody>\n",
       "</table>\n",
       "<p>10000 rows × 14 columns</p>\n",
       "</div>"
      ],
      "text/plain": [
       "      CreditScore       Age  Tenure   Balance  NumOfProducts  HasCrCard  \\\n",
       "0           0.538  0.324324       2  0.000000              1          1   \n",
       "1           0.516  0.310811       1  0.334031              1          0   \n",
       "2           0.304  0.324324       8  0.636357              3          1   \n",
       "3           0.698  0.283784       1  0.000000              2          0   \n",
       "4           1.000  0.337838       2  0.500246              1          1   \n",
       "...           ...       ...     ...       ...            ...        ...   \n",
       "9995        0.842  0.283784       5  0.000000              2          1   \n",
       "9996        0.332  0.229730      10  0.228657              1          1   \n",
       "9997        0.718  0.243243       7  0.000000              1          0   \n",
       "9998        0.844  0.324324       3  0.299226              2          1   \n",
       "9999        0.884  0.135135       4  0.518708              1          1   \n",
       "\n",
       "      IsActiveMember  EstimatedSalary  Exited  Geography_France  \\\n",
       "0                  1         0.506735       1                 1   \n",
       "1                  1         0.562709       0                 0   \n",
       "2                  0         0.569654       1                 1   \n",
       "3                  0         0.469120       0                 1   \n",
       "4                  1         0.395400       0                 0   \n",
       "...              ...              ...     ...               ...   \n",
       "9995               0         0.481341       0                 1   \n",
       "9996               1         0.508490       0                 1   \n",
       "9997               1         0.210390       1                 1   \n",
       "9998               0         0.464429       1                 0   \n",
       "9999               0         0.190914       0                 1   \n",
       "\n",
       "      Geography_Germany  Geography_Spain  Gender_Female  Gender_Male  \n",
       "0                     0                0              1            0  \n",
       "1                     0                1              1            0  \n",
       "2                     0                0              1            0  \n",
       "3                     0                0              1            0  \n",
       "4                     0                1              1            0  \n",
       "...                 ...              ...            ...          ...  \n",
       "9995                  0                0              0            1  \n",
       "9996                  0                0              0            1  \n",
       "9997                  0                0              1            0  \n",
       "9998                  1                0              0            1  \n",
       "9999                  0                0              1            0  \n",
       "\n",
       "[10000 rows x 14 columns]"
      ]
     },
     "execution_count": 16,
     "metadata": {},
     "output_type": "execute_result"
    }
   ],
   "source": [
    "df"
   ]
  },
  {
   "cell_type": "code",
   "execution_count": 17,
   "metadata": {},
   "outputs": [
    {
     "data": {
      "text/plain": [
       "Index(['CreditScore', 'Age', 'Tenure', 'Balance', 'NumOfProducts', 'HasCrCard',\n",
       "       'IsActiveMember', 'EstimatedSalary', 'Exited', 'Geography_France',\n",
       "       'Geography_Germany', 'Geography_Spain', 'Gender_Female', 'Gender_Male'],\n",
       "      dtype='object')"
      ]
     },
     "execution_count": 17,
     "metadata": {},
     "output_type": "execute_result"
    }
   ],
   "source": [
    "df.columns"
   ]
  },
  {
   "cell_type": "code",
   "execution_count": 23,
   "metadata": {},
   "outputs": [],
   "source": [
    "x = df.drop('Exited', axis=1)"
   ]
  },
  {
   "cell_type": "code",
   "execution_count": 24,
   "metadata": {},
   "outputs": [],
   "source": [
    "y = df['Exited']"
   ]
  },
  {
   "cell_type": "code",
   "execution_count": 25,
   "metadata": {},
   "outputs": [],
   "source": [
    "from imblearn.over_sampling import SMOTE"
   ]
  },
  {
   "cell_type": "code",
   "execution_count": 26,
   "metadata": {},
   "outputs": [],
   "source": [
    "sm = SMOTE(random_state=123)"
   ]
  },
  {
   "cell_type": "code",
   "execution_count": 27,
   "metadata": {},
   "outputs": [],
   "source": [
    "x_bal, y_bal = sm.fit_resample(x,y)"
   ]
  },
  {
   "cell_type": "code",
   "execution_count": 28,
   "metadata": {},
   "outputs": [
    {
     "data": {
      "text/plain": [
       "((15926, 13), (15926,))"
      ]
     },
     "execution_count": 28,
     "metadata": {},
     "output_type": "execute_result"
    }
   ],
   "source": [
    "x_bal.shape, y_bal.shape"
   ]
  },
  {
   "cell_type": "code",
   "execution_count": 29,
   "metadata": {},
   "outputs": [
    {
     "data": {
      "text/plain": [
       "0    7963\n",
       "1    2037\n",
       "Name: Exited, dtype: int64"
      ]
     },
     "execution_count": 29,
     "metadata": {},
     "output_type": "execute_result"
    }
   ],
   "source": [
    "y.value_counts()"
   ]
  },
  {
   "cell_type": "code",
   "execution_count": 30,
   "metadata": {},
   "outputs": [],
   "source": [
    "x_train, x_test, y_train, y_test = train_test_split(x_bal,y_bal,test_size=0.25, random_state=123)"
   ]
  },
  {
   "cell_type": "code",
   "execution_count": 31,
   "metadata": {},
   "outputs": [
    {
     "data": {
      "text/plain": [
       "((11944, 13), (3982, 13))"
      ]
     },
     "execution_count": 31,
     "metadata": {},
     "output_type": "execute_result"
    }
   ],
   "source": [
    "x_train.shape, x_test.shape"
   ]
  },
  {
   "cell_type": "code",
   "execution_count": 32,
   "metadata": {},
   "outputs": [
    {
     "data": {
      "text/plain": [
       "((11944,), (3982,))"
      ]
     },
     "execution_count": 32,
     "metadata": {},
     "output_type": "execute_result"
    }
   ],
   "source": [
    "y_train.shape, y_test.shape"
   ]
  },
  {
   "cell_type": "code",
   "execution_count": 33,
   "metadata": {},
   "outputs": [
    {
     "data": {
      "text/plain": [
       "1    5973\n",
       "0    5971\n",
       "Name: Exited, dtype: int64"
      ]
     },
     "execution_count": 33,
     "metadata": {},
     "output_type": "execute_result"
    }
   ],
   "source": [
    "y_train.value_counts()"
   ]
  },
  {
   "cell_type": "code",
   "execution_count": 34,
   "metadata": {},
   "outputs": [
    {
     "data": {
      "text/plain": [
       "6012     0\n",
       "11385    1\n",
       "12848    1\n",
       "15525    1\n",
       "13323    1\n",
       "        ..\n",
       "12252    1\n",
       "1346     0\n",
       "11646    1\n",
       "15725    1\n",
       "3582     0\n",
       "Name: Exited, Length: 11944, dtype: int64"
      ]
     },
     "execution_count": 34,
     "metadata": {},
     "output_type": "execute_result"
    }
   ],
   "source": [
    "y_train"
   ]
  },
  {
   "cell_type": "code",
   "execution_count": 46,
   "metadata": {},
   "outputs": [],
   "source": [
    "ann = keras.Sequential([\n",
    "    layers.Dense(500, activation='relu', kernel_initializer='uniform'),\n",
    "    layers.Dense(200, activation = 'tanh'),\n",
    "    layers.Dense(1, activation='sigmoid')\n",
    "])"
   ]
  },
  {
   "cell_type": "code",
   "execution_count": 47,
   "metadata": {},
   "outputs": [],
   "source": [
    "ann.compile(optimizer='adam', loss='binary_crossentropy',metrics = ['accuracy'])"
   ]
  },
  {
   "cell_type": "code",
   "execution_count": 48,
   "metadata": {},
   "outputs": [
    {
     "name": "stdout",
     "output_type": "stream",
     "text": [
      "Epoch 1/100\n",
      "374/374 [==============================] - 3s 5ms/step - loss: 0.5654 - accuracy: 0.7070\n",
      "Epoch 2/100\n",
      "374/374 [==============================] - 2s 5ms/step - loss: 0.4860 - accuracy: 0.7689\n",
      "Epoch 3/100\n",
      "374/374 [==============================] - 1s 4ms/step - loss: 0.4617 - accuracy: 0.7785\n",
      "Epoch 4/100\n",
      "374/374 [==============================] - 2s 4ms/step - loss: 0.4538 - accuracy: 0.7848\n",
      "Epoch 5/100\n",
      "374/374 [==============================] - 2s 4ms/step - loss: 0.4500 - accuracy: 0.7851\n",
      "Epoch 6/100\n",
      "374/374 [==============================] - 2s 4ms/step - loss: 0.4432 - accuracy: 0.7896\n",
      "Epoch 7/100\n",
      "374/374 [==============================] - 1s 4ms/step - loss: 0.4355 - accuracy: 0.7947\n",
      "Epoch 8/100\n",
      "374/374 [==============================] - 1s 4ms/step - loss: 0.4304 - accuracy: 0.7985\n",
      "Epoch 9/100\n",
      "374/374 [==============================] - 2s 4ms/step - loss: 0.4231 - accuracy: 0.8012\n",
      "Epoch 10/100\n",
      "374/374 [==============================] - 1s 4ms/step - loss: 0.4242 - accuracy: 0.8034\n",
      "Epoch 11/100\n",
      "374/374 [==============================] - 2s 4ms/step - loss: 0.4150 - accuracy: 0.8057\n",
      "Epoch 12/100\n",
      "374/374 [==============================] - 1s 4ms/step - loss: 0.4130 - accuracy: 0.8068\n",
      "Epoch 13/100\n",
      "374/374 [==============================] - 2s 4ms/step - loss: 0.4112 - accuracy: 0.8129\n",
      "Epoch 14/100\n",
      "374/374 [==============================] - 1s 3ms/step - loss: 0.4077 - accuracy: 0.8112\n",
      "Epoch 15/100\n",
      "374/374 [==============================] - 2s 4ms/step - loss: 0.4027 - accuracy: 0.8129\n",
      "Epoch 16/100\n",
      "374/374 [==============================] - 2s 4ms/step - loss: 0.4028 - accuracy: 0.8147\n",
      "Epoch 17/100\n",
      "374/374 [==============================] - 1s 3ms/step - loss: 0.3987 - accuracy: 0.8161\n",
      "Epoch 18/100\n",
      "374/374 [==============================] - 2s 4ms/step - loss: 0.3966 - accuracy: 0.8191\n",
      "Epoch 19/100\n",
      "374/374 [==============================] - 1s 4ms/step - loss: 0.3934 - accuracy: 0.8180\n",
      "Epoch 20/100\n",
      "374/374 [==============================] - 1s 4ms/step - loss: 0.3902 - accuracy: 0.8195\n",
      "Epoch 21/100\n",
      "374/374 [==============================] - 2s 4ms/step - loss: 0.3905 - accuracy: 0.8225\n",
      "Epoch 22/100\n",
      "374/374 [==============================] - 1s 4ms/step - loss: 0.3870 - accuracy: 0.8234\n",
      "Epoch 23/100\n",
      "374/374 [==============================] - 2s 4ms/step - loss: 0.3876 - accuracy: 0.8247\n",
      "Epoch 24/100\n",
      "374/374 [==============================] - 2s 4ms/step - loss: 0.3837 - accuracy: 0.8225\n",
      "Epoch 25/100\n",
      "374/374 [==============================] - 2s 4ms/step - loss: 0.3842 - accuracy: 0.8228\n",
      "Epoch 26/100\n",
      "374/374 [==============================] - 1s 4ms/step - loss: 0.3799 - accuracy: 0.8265\n",
      "Epoch 27/100\n",
      "374/374 [==============================] - 2s 4ms/step - loss: 0.3767 - accuracy: 0.8286\n",
      "Epoch 28/100\n",
      "374/374 [==============================] - 1s 4ms/step - loss: 0.3781 - accuracy: 0.8285\n",
      "Epoch 29/100\n",
      "374/374 [==============================] - 1s 4ms/step - loss: 0.3712 - accuracy: 0.8318\n",
      "Epoch 30/100\n",
      "374/374 [==============================] - 2s 4ms/step - loss: 0.3761 - accuracy: 0.8268\n",
      "Epoch 31/100\n",
      "374/374 [==============================] - 1s 4ms/step - loss: 0.3733 - accuracy: 0.8301\n",
      "Epoch 32/100\n",
      "374/374 [==============================] - 2s 4ms/step - loss: 0.3713 - accuracy: 0.8319\n",
      "Epoch 33/100\n",
      "374/374 [==============================] - 1s 4ms/step - loss: 0.3693 - accuracy: 0.8331\n",
      "Epoch 34/100\n",
      "374/374 [==============================] - 1s 4ms/step - loss: 0.3681 - accuracy: 0.8300\n",
      "Epoch 35/100\n",
      "374/374 [==============================] - 1s 4ms/step - loss: 0.3663 - accuracy: 0.8352\n",
      "Epoch 36/100\n",
      "374/374 [==============================] - 2s 4ms/step - loss: 0.3664 - accuracy: 0.8341\n",
      "Epoch 37/100\n",
      "374/374 [==============================] - 1s 4ms/step - loss: 0.3613 - accuracy: 0.8370\n",
      "Epoch 38/100\n",
      "374/374 [==============================] - 2s 4ms/step - loss: 0.3616 - accuracy: 0.8326\n",
      "Epoch 39/100\n",
      "374/374 [==============================] - 2s 4ms/step - loss: 0.3614 - accuracy: 0.8367\n",
      "Epoch 40/100\n",
      "374/374 [==============================] - 2s 4ms/step - loss: 0.3581 - accuracy: 0.8372\n",
      "Epoch 41/100\n",
      "374/374 [==============================] - 2s 4ms/step - loss: 0.3579 - accuracy: 0.8385\n",
      "Epoch 42/100\n",
      "374/374 [==============================] - 2s 4ms/step - loss: 0.3559 - accuracy: 0.8418\n",
      "Epoch 43/100\n",
      "374/374 [==============================] - 1s 4ms/step - loss: 0.3569 - accuracy: 0.8420\n",
      "Epoch 44/100\n",
      "374/374 [==============================] - 1s 4ms/step - loss: 0.3541 - accuracy: 0.8403\n",
      "Epoch 45/100\n",
      "374/374 [==============================] - 1s 4ms/step - loss: 0.3545 - accuracy: 0.8407\n",
      "Epoch 46/100\n",
      "374/374 [==============================] - 1s 4ms/step - loss: 0.3541 - accuracy: 0.8365\n",
      "Epoch 47/100\n",
      "374/374 [==============================] - 1s 4ms/step - loss: 0.3539 - accuracy: 0.8409\n",
      "Epoch 48/100\n",
      "374/374 [==============================] - 2s 4ms/step - loss: 0.3526 - accuracy: 0.8401\n",
      "Epoch 49/100\n",
      "374/374 [==============================] - 2s 4ms/step - loss: 0.3501 - accuracy: 0.8426\n",
      "Epoch 50/100\n",
      "374/374 [==============================] - 1s 4ms/step - loss: 0.3513 - accuracy: 0.8435\n",
      "Epoch 51/100\n",
      "374/374 [==============================] - 2s 4ms/step - loss: 0.3494 - accuracy: 0.8434\n",
      "Epoch 52/100\n",
      "374/374 [==============================] - 1s 4ms/step - loss: 0.3477 - accuracy: 0.8434\n",
      "Epoch 53/100\n",
      "374/374 [==============================] - 1s 4ms/step - loss: 0.3478 - accuracy: 0.8401\n",
      "Epoch 54/100\n",
      "374/374 [==============================] - 1s 4ms/step - loss: 0.3446 - accuracy: 0.8444\n",
      "Epoch 55/100\n",
      "374/374 [==============================] - 2s 4ms/step - loss: 0.3449 - accuracy: 0.8454\n",
      "Epoch 56/100\n",
      "374/374 [==============================] - 1s 4ms/step - loss: 0.3486 - accuracy: 0.8417\n",
      "Epoch 57/100\n",
      "374/374 [==============================] - 1s 4ms/step - loss: 0.3457 - accuracy: 0.8466\n",
      "Epoch 58/100\n",
      "374/374 [==============================] - 2s 4ms/step - loss: 0.3450 - accuracy: 0.8449\n",
      "Epoch 59/100\n",
      "374/374 [==============================] - 1s 4ms/step - loss: 0.3404 - accuracy: 0.8451\n",
      "Epoch 60/100\n",
      "374/374 [==============================] - 2s 4ms/step - loss: 0.3451 - accuracy: 0.8464\n",
      "Epoch 61/100\n",
      "374/374 [==============================] - 1s 4ms/step - loss: 0.3436 - accuracy: 0.8444\n",
      "Epoch 62/100\n",
      "374/374 [==============================] - 1s 4ms/step - loss: 0.3374 - accuracy: 0.8489\n",
      "Epoch 63/100\n",
      "374/374 [==============================] - 1s 4ms/step - loss: 0.3400 - accuracy: 0.8463\n",
      "Epoch 64/100\n",
      "374/374 [==============================] - 2s 4ms/step - loss: 0.3397 - accuracy: 0.8475\n",
      "Epoch 65/100\n",
      "374/374 [==============================] - 1s 4ms/step - loss: 0.3409 - accuracy: 0.8451\n",
      "Epoch 66/100\n",
      "374/374 [==============================] - 1s 4ms/step - loss: 0.3392 - accuracy: 0.8451\n",
      "Epoch 67/100\n",
      "374/374 [==============================] - 1s 4ms/step - loss: 0.3368 - accuracy: 0.8474\n",
      "Epoch 68/100\n",
      "374/374 [==============================] - 1s 4ms/step - loss: 0.3379 - accuracy: 0.8489\n",
      "Epoch 69/100\n",
      "374/374 [==============================] - 1s 4ms/step - loss: 0.3373 - accuracy: 0.8482\n",
      "Epoch 70/100\n",
      "374/374 [==============================] - 2s 4ms/step - loss: 0.3343 - accuracy: 0.8520\n",
      "Epoch 71/100\n",
      "374/374 [==============================] - 2s 4ms/step - loss: 0.3336 - accuracy: 0.8490\n",
      "Epoch 72/100\n",
      "374/374 [==============================] - 2s 4ms/step - loss: 0.3319 - accuracy: 0.8518\n",
      "Epoch 73/100\n",
      "374/374 [==============================] - 1s 4ms/step - loss: 0.3303 - accuracy: 0.8519\n",
      "Epoch 74/100\n",
      "374/374 [==============================] - 2s 4ms/step - loss: 0.3307 - accuracy: 0.8512\n",
      "Epoch 75/100\n",
      "374/374 [==============================] - 2s 4ms/step - loss: 0.3313 - accuracy: 0.8518\n",
      "Epoch 76/100\n",
      "374/374 [==============================] - 2s 4ms/step - loss: 0.3321 - accuracy: 0.8504\n",
      "Epoch 77/100\n",
      "374/374 [==============================] - 1s 4ms/step - loss: 0.3280 - accuracy: 0.8520\n",
      "Epoch 78/100\n",
      "374/374 [==============================] - 2s 4ms/step - loss: 0.3300 - accuracy: 0.8495\n",
      "Epoch 79/100\n",
      "374/374 [==============================] - 2s 5ms/step - loss: 0.3291 - accuracy: 0.8508\n",
      "Epoch 80/100\n",
      "374/374 [==============================] - 1s 4ms/step - loss: 0.3303 - accuracy: 0.8495\n",
      "Epoch 81/100\n",
      "374/374 [==============================] - 2s 4ms/step - loss: 0.3271 - accuracy: 0.8524\n",
      "Epoch 82/100\n",
      "374/374 [==============================] - 2s 4ms/step - loss: 0.3318 - accuracy: 0.8526\n",
      "Epoch 83/100\n",
      "374/374 [==============================] - 2s 5ms/step - loss: 0.3265 - accuracy: 0.8547\n",
      "Epoch 84/100\n",
      "374/374 [==============================] - 2s 5ms/step - loss: 0.3254 - accuracy: 0.8530\n",
      "Epoch 85/100\n",
      "374/374 [==============================] - 2s 4ms/step - loss: 0.3259 - accuracy: 0.8531\n",
      "Epoch 86/100\n",
      "374/374 [==============================] - 1s 4ms/step - loss: 0.3247 - accuracy: 0.8570\n",
      "Epoch 87/100\n",
      "374/374 [==============================] - 2s 4ms/step - loss: 0.3260 - accuracy: 0.8542\n",
      "Epoch 88/100\n",
      "374/374 [==============================] - 2s 4ms/step - loss: 0.3260 - accuracy: 0.8521\n",
      "Epoch 89/100\n",
      "374/374 [==============================] - 1s 4ms/step - loss: 0.3231 - accuracy: 0.8545\n",
      "Epoch 90/100\n",
      "374/374 [==============================] - 1s 4ms/step - loss: 0.3243 - accuracy: 0.8566\n",
      "Epoch 91/100\n",
      "374/374 [==============================] - 1s 4ms/step - loss: 0.3252 - accuracy: 0.8553\n",
      "Epoch 92/100\n",
      "374/374 [==============================] - 2s 4ms/step - loss: 0.3229 - accuracy: 0.8534\n",
      "Epoch 93/100\n",
      "374/374 [==============================] - 2s 4ms/step - loss: 0.3230 - accuracy: 0.8541\n",
      "Epoch 94/100\n",
      "374/374 [==============================] - 1s 4ms/step - loss: 0.3202 - accuracy: 0.8576\n",
      "Epoch 95/100\n",
      "374/374 [==============================] - 2s 4ms/step - loss: 0.3252 - accuracy: 0.8541\n",
      "Epoch 96/100\n",
      "374/374 [==============================] - 1s 4ms/step - loss: 0.3217 - accuracy: 0.8566\n",
      "Epoch 97/100\n",
      "374/374 [==============================] - 2s 4ms/step - loss: 0.3222 - accuracy: 0.8557\n",
      "Epoch 98/100\n",
      "374/374 [==============================] - 1s 4ms/step - loss: 0.3215 - accuracy: 0.8566\n",
      "Epoch 99/100\n",
      "374/374 [==============================] - 2s 4ms/step - loss: 0.3221 - accuracy: 0.8549\n",
      "Epoch 100/100\n",
      "374/374 [==============================] - 1s 4ms/step - loss: 0.3226 - accuracy: 0.8552\n"
     ]
    },
    {
     "data": {
      "text/plain": [
       "<keras.callbacks.History at 0x20f40458d88>"
      ]
     },
     "execution_count": 48,
     "metadata": {},
     "output_type": "execute_result"
    }
   ],
   "source": [
    "ann.fit(x_train, y_train, epochs=100, use_multiprocessing=True)"
   ]
  },
  {
   "cell_type": "code",
   "execution_count": 49,
   "metadata": {},
   "outputs": [
    {
     "name": "stdout",
     "output_type": "stream",
     "text": [
      "Model: \"sequential_3\"\n",
      "_________________________________________________________________\n",
      " Layer (type)                Output Shape              Param #   \n",
      "=================================================================\n",
      " dense_9 (Dense)             (None, 500)               7000      \n",
      "                                                                 \n",
      " dense_10 (Dense)            (None, 200)               100200    \n",
      "                                                                 \n",
      " dense_11 (Dense)            (None, 1)                 201       \n",
      "                                                                 \n",
      "=================================================================\n",
      "Total params: 107,401\n",
      "Trainable params: 107,401\n",
      "Non-trainable params: 0\n",
      "_________________________________________________________________\n"
     ]
    }
   ],
   "source": [
    "ann.summary()"
   ]
  },
  {
   "cell_type": "code",
   "execution_count": 50,
   "metadata": {},
   "outputs": [
    {
     "name": "stdout",
     "output_type": "stream",
     "text": [
      "125/125 [==============================] - 1s 4ms/step - loss: 0.4047 - accuracy: 0.8310\n"
     ]
    },
    {
     "data": {
      "text/plain": [
       "[0.40470579266548157, 0.8309894800186157]"
      ]
     },
     "execution_count": 50,
     "metadata": {},
     "output_type": "execute_result"
    }
   ],
   "source": [
    "ann.evaluate(x_test, y_test)"
   ]
  },
  {
   "cell_type": "code",
   "execution_count": 51,
   "metadata": {},
   "outputs": [],
   "source": [
    "yp = ann.predict(x_test)"
   ]
  },
  {
   "cell_type": "code",
   "execution_count": 52,
   "metadata": {},
   "outputs": [
    {
     "data": {
      "text/plain": [
       "array([0.89291704, 0.6531733 , 0.9633107 , 0.918157  , 0.0529891 ,\n",
       "       0.07171252, 0.7877283 , 0.39983243, 0.6240022 , 0.9888934 ],\n",
       "      dtype=float32)"
      ]
     },
     "execution_count": 52,
     "metadata": {},
     "output_type": "execute_result"
    }
   ],
   "source": [
    "yp[:10].reshape(-1,)"
   ]
  },
  {
   "cell_type": "code",
   "execution_count": 53,
   "metadata": {},
   "outputs": [],
   "source": [
    "y_pred = []\n",
    "for i in yp:\n",
    "    if i > 0.5:\n",
    "        y_pred.append(1)\n",
    "    else:\n",
    "        y_pred.append(0)"
   ]
  },
  {
   "cell_type": "code",
   "execution_count": 54,
   "metadata": {},
   "outputs": [
    {
     "name": "stdout",
     "output_type": "stream",
     "text": [
      "              precision    recall  f1-score   support\n",
      "\n",
      "           0       0.87      0.78      0.82      1992\n",
      "           1       0.80      0.88      0.84      1990\n",
      "\n",
      "    accuracy                           0.83      3982\n",
      "   macro avg       0.83      0.83      0.83      3982\n",
      "weighted avg       0.83      0.83      0.83      3982\n",
      "\n"
     ]
    }
   ],
   "source": [
    "print(classification_report(y_test, y_pred))"
   ]
  },
  {
   "cell_type": "code",
   "execution_count": 55,
   "metadata": {},
   "outputs": [
    {
     "data": {
      "text/plain": [
       "array([[1553,  439],\n",
       "       [ 234, 1756]], dtype=int64)"
      ]
     },
     "execution_count": 55,
     "metadata": {},
     "output_type": "execute_result"
    }
   ],
   "source": [
    "confusion_matrix(y_test, y_pred)"
   ]
  },
  {
   "cell_type": "code",
   "execution_count": null,
   "metadata": {},
   "outputs": [],
   "source": []
  }
 ],
 "metadata": {
  "interpreter": {
   "hash": "0bf8f0062b243a56861cd9fee18c4a5952ba9c0fa8826bcb9c6801eddbadc4b1"
  },
  "kernelspec": {
   "display_name": "Python 3 (ipykernel)",
   "language": "python",
   "name": "python3"
  },
  "language_info": {
   "codemirror_mode": {
    "name": "ipython",
    "version": 3
   },
   "file_extension": ".py",
   "mimetype": "text/x-python",
   "name": "python",
   "nbconvert_exporter": "python",
   "pygments_lexer": "ipython3",
   "version": "3.7.11"
  }
 },
 "nbformat": 4,
 "nbformat_minor": 4
}
